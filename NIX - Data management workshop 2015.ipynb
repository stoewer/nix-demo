{
 "metadata": {
  "name": ""
 },
 "nbformat": 3,
 "nbformat_minor": 0,
 "worksheets": [
  {
   "cells": [
    {
     "cell_type": "code",
     "collapsed": false,
     "input": [
      "%matplotlib inline"
     ],
     "language": "python",
     "metadata": {
      "slideshow": {
       "slide_type": "skip"
      }
     },
     "outputs": [],
     "prompt_number": 1
    },
    {
     "cell_type": "raw",
     "metadata": {
      "slideshow": {
       "slide_type": "skip"
      }
     },
     "source": [
      "<style type=\"text/css\">\n",
      "    .reveal {\n",
      "        font-size: 150%;\n",
      "    }\n",
      "    div.cell {\n",
      "        margin-top:0;\n",
      "        margin-bottom:0;\n",
      "    }\n",
      "</style>"
     ]
    },
    {
     "cell_type": "heading",
     "level": 1,
     "metadata": {
      "slideshow": {
       "slide_type": "slide"
      }
     },
     "source": [
      "The NIX file format"
     ]
    },
    {
     "cell_type": "heading",
     "level": 2,
     "metadata": {
      "slideshow": {
       "slide_type": "slide"
      }
     },
     "source": [
      "What are the features of an ideal file format for Neuroscienence?"
     ]
    },
    {
     "cell_type": "markdown",
     "metadata": {
      "slideshow": {
       "slide_type": "fragment"
      }
     },
     "source": [
      "#### It supports all kinds of data (time series, EEG, event data (neural and experimental), calcium imaging etc ..."
     ]
    },
    {
     "cell_type": "markdown",
     "metadata": {
      "slideshow": {
       "slide_type": "fragment"
      }
     },
     "source": [
      "#### It has rich support for data annotation and experimental metadata:\n",
      "  * Information about the subject\n",
      "  * Experimental conditions\n",
      "  * Used stimuli"
     ]
    },
    {
     "cell_type": "markdown",
     "metadata": {
      "slideshow": {
       "slide_type": "fragment"
      }
     },
     "source": [
      "#### It is accessible from many platforms:\n",
      "  * Available for all major operating systems (Windows, Linux, OSX)\n",
      "  * Supports important computing environments and programming languages such as C/C++, Python and Matlab\n",
      "  \n",
      "__open source?__"
     ]
    },
    {
     "cell_type": "markdown",
     "metadata": {
      "slideshow": {
       "slide_type": "fragment"
      }
     },
     "source": [
      "#### Has a rich ecosystem and is supported by many tools and vendors"
     ]
    },
    {
     "cell_type": "markdown",
     "metadata": {
      "slideshow": {
       "slide_type": "fragment"
      }
     },
     "source": [
      "#### Allows to store all relevant information in one single file"
     ]
    },
    {
     "cell_type": "heading",
     "level": 2,
     "metadata": {
      "slideshow": {
       "slide_type": "slide"
      }
     },
     "source": [
      "Do we need another file format?"
     ]
    },
    {
     "cell_type": "markdown",
     "metadata": {
      "slideshow": {
       "slide_type": "fragment"
      }
     },
     "source": [
      "#### Many formats are proprietary and not open source\n",
      "\n",
      "* Often poorly documented\n",
      "* Only readable on certain platforms"
     ]
    },
    {
     "cell_type": "markdown",
     "metadata": {
      "slideshow": {
       "slide_type": "fragment"
      }
     },
     "source": [
      "#### Do not support complex metadata"
     ]
    },
    {
     "cell_type": "markdown",
     "metadata": {
      "slideshow": {
       "slide_type": "fragment"
      }
     },
     "source": [
      "#### Are often specialized for a very specific use-case or recording tool"
     ]
    },
    {
     "cell_type": "heading",
     "level": 2,
     "metadata": {
      "slideshow": {
       "slide_type": "slide"
      }
     },
     "source": [
      "Do we need another file format? YES!"
     ]
    },
    {
     "cell_type": "markdown",
     "metadata": {},
     "source": [
      "#### Current formats do not fulfill the desired features\n",
      "\n",
      "#### Many initiatives reflect the need for a better file format for neuroscience\n",
      "\n",
      "* NWB (Neurodata without borders)\n",
      "* INCF data sharing task force\n",
      "\n",
      "The NIX project started as a initative in the context of the the INCF data sharing task force"
     ]
    },
    {
     "cell_type": "heading",
     "level": 2,
     "metadata": {
      "slideshow": {
       "slide_type": "slide"
      }
     },
     "source": [
      "How do these requirements influence the design of a file format?"
     ]
    },
    {
     "cell_type": "markdown",
     "metadata": {},
     "source": [
      "#### Conventional data model\n",
      "\n",
      "* Isolate data objects the model should be able to describe\n",
      "* Define entities reflecting the data objects\n",
      "* Define properties and relationships of the entities\n",
      "* Model is easy to understand\n",
      "* Entities have a strong semantic meaning\n",
      "* Can result in a very large number of entities"
     ]
    },
    {
     "cell_type": "markdown",
     "metadata": {
      "slideshow": {
       "slide_type": "fragment"
      }
     },
     "source": [
      "#### Generic data model\n",
      "\n",
      "* Isolate data objects the model should be able to describe\n",
      "* Identify common properties and concepts of data objects\n",
      "* Design generic entities that can represent those common concepts\n",
      "* Introduce generic properties that can describe differences between data objects\n",
      "* Model is much smaller\n",
      "* Entities have less semantic meaning\n",
      "* May be harder to understand and to process"
     ]
    },
    {
     "cell_type": "heading",
     "level": 2,
     "metadata": {
      "slideshow": {
       "slide_type": "skip"
      }
     },
     "source": [
      "What are the pitfalls when designing a new format?"
     ]
    },
    {
     "cell_type": "raw",
     "metadata": {
      "slideshow": {
       "slide_type": "skip"
      }
     },
     "source": [
      "<img src=\"img/xkcd-standards.png\">"
     ]
    },
    {
     "cell_type": "heading",
     "level": 1,
     "metadata": {
      "slideshow": {
       "slide_type": "slide"
      }
     },
     "source": [
      "A tour through the NIX data model"
     ]
    },
    {
     "cell_type": "heading",
     "level": 2,
     "metadata": {
      "slideshow": {
       "slide_type": "slide"
      }
     },
     "source": [
      "A simple example use-case"
     ]
    },
    {
     "cell_type": "raw",
     "metadata": {},
     "source": [
      "<img src=\"img/nix-use-case-signal-and-spikes.png\" width=\"50%\" height=\"50%\">"
     ]
    },
    {
     "cell_type": "heading",
     "level": 2,
     "metadata": {
      "slideshow": {
       "slide_type": "slide"
      }
     },
     "source": [
      "NIX File"
     ]
    },
    {
     "cell_type": "code",
     "collapsed": false,
     "input": [
      "import nix\n",
      "\n",
      "f = nix.File.open('workshop.h5', nix.FileMode.Overwrite)\n",
      "\n",
      "print(\"Fomat: %s\" % f.format)\n",
      "print(\"Version: %s\" % str(f.version))"
     ],
     "language": "python",
     "metadata": {},
     "outputs": [
      {
       "output_type": "stream",
       "stream": "stdout",
       "text": [
        "Fomat: nix\n",
        "Version: (1, 0, 0)\n"
       ]
      }
     ],
     "prompt_number": 2
    },
    {
     "cell_type": "code",
     "collapsed": false,
     "input": [
      "print(\"Blocks: %s\" % list(f.blocks))\n",
      "print(\"Sections: %s\" % list(f.sections))"
     ],
     "language": "python",
     "metadata": {
      "slideshow": {
       "slide_type": "fragment"
      }
     },
     "outputs": [
      {
       "output_type": "stream",
       "stream": "stdout",
       "text": [
        "Blocks: []\n",
        "Sections: []\n"
       ]
      }
     ],
     "prompt_number": 3
    },
    {
     "cell_type": "heading",
     "level": 2,
     "metadata": {
      "slideshow": {
       "slide_type": "slide"
      }
     },
     "source": [
      "NIX Block"
     ]
    },
    {
     "cell_type": "markdown",
     "metadata": {},
     "source": [
      "NIX block entities can group data that belongs together"
     ]
    },
    {
     "cell_type": "code",
     "collapsed": false,
     "input": [
      "block = f.create_block('Recording 1', 'recording_session')\n",
      "print(block)"
     ],
     "language": "python",
     "metadata": {},
     "outputs": [
      {
       "output_type": "stream",
       "stream": "stdout",
       "text": [
        "Block: {name = Recording 1, type = recording_session, id = 80cb8ee9-cd0e-4ff1-9aa0-85774c3eac81}\n"
       ]
      }
     ],
     "prompt_number": 4
    },
    {
     "cell_type": "raw",
     "metadata": {
      "slideshow": {
       "slide_type": "slide"
      }
     },
     "source": [
      "<img src=\"img/block.png\" width=\"30%\" height=\"30%\">"
     ]
    },
    {
     "cell_type": "heading",
     "level": 2,
     "metadata": {
      "slideshow": {
       "slide_type": "slide"
      }
     },
     "source": [
      "NIX DataArray"
     ]
    },
    {
     "cell_type": "markdown",
     "metadata": {},
     "source": [
      "DataArray entities can represent all kinds of n-dimensional data\n",
      "\n",
      "#### Create a data array that represents a recorded signal"
     ]
    },
    {
     "cell_type": "code",
     "collapsed": false,
     "input": [
      "# Create some test data\n",
      "from utils.lif import lif\n",
      "\n",
      "model = lif()\n",
      "times, voltage, spike_times = model.run_const_stim(10000, 0.005)\n",
      "sampling_interval = times[1] - times[0]"
     ],
     "language": "python",
     "metadata": {},
     "outputs": [],
     "prompt_number": 5
    },
    {
     "cell_type": "code",
     "collapsed": false,
     "input": [
      "# Create a data array that represents a recorded signal\n",
      "\n",
      "signal = block.create_data_array(\"Signal 1\", \"analog_signal\", nix.DataType.Double, data=voltage)\n",
      "signal.unit = \"mV\"\n",
      "signal.label = \"Voltage\"\n",
      "\n",
      "dim = signal.append_sampled_dimension(sampling_interval)\n",
      "dim.unit = \"s\"\n",
      "dim.label = \"Time\"\n",
      "\n",
      "print(\"Sampling Interval: %f\" % sampling_interval)\n",
      "print(signal)"
     ],
     "language": "python",
     "metadata": {
      "slideshow": {
       "slide_type": "fragment"
      }
     },
     "outputs": [
      {
       "output_type": "stream",
       "stream": "stdout",
       "text": [
        "Sampling Interval: 0.000100\n",
        "DataArray: {name = Signal 1, type = analog_signal, id = b563681f-c8e8-4e6e-a96b-2578d5aa7c9c}\n"
       ]
      }
     ],
     "prompt_number": 6
    },
    {
     "cell_type": "code",
     "collapsed": false,
     "input": [
      "from utils.plotting import Plotter\n",
      "\n",
      "plotter = Plotter(width=1000, height=400)\n",
      "plotter.add(signal)\n",
      "\n",
      "plotter.plot()"
     ],
     "language": "python",
     "metadata": {
      "slideshow": {
       "slide_type": "slide"
      }
     },
     "outputs": [
      {
       "metadata": {},
       "output_type": "display_data",
       "png": "[encoded data removed]",
       "text": [
        "<matplotlib.figure.Figure at 0x7f9a4ca79c90>"
       ]
      }
     ],
     "prompt_number": 7
    },
    {
     "cell_type": "markdown",
     "metadata": {
      "slideshow": {
       "slide_type": "slide"
      }
     },
     "source": [
      "#### Create a data array representing spike times"
     ]
    },
    {
     "cell_type": "code",
     "collapsed": false,
     "input": [
      "spikes = block.create_data_array(\"Spike Times\", \"spike_times\", data=spike_times)\n",
      "spikes.label = \"Time\"\n",
      "spikes.unit  = \"s\"\n",
      "\n",
      "spikes.append_set_dimension()\n",
      "\n",
      "print(block.data_arrays)"
     ],
     "language": "python",
     "metadata": {},
     "outputs": [
      {
       "output_type": "stream",
       "stream": "stdout",
       "text": [
        "[DataArray: {name = Signal 1, type = analog_signal, id = b563681f-c8e8-4e6e-a96b-2578d5aa7c9c}, DataArray: {name = Spike Times, type = spike_times, id = 72c12ecf-c15b-42d4-8f74-313d233841b8}]\n"
       ]
      }
     ],
     "prompt_number": 8
    },
    {
     "cell_type": "code",
     "collapsed": false,
     "input": [
      "plotter = Plotter(width=1000, height=200)\n",
      "plotter.add(spikes)\n",
      "\n",
      "plotter.plot()"
     ],
     "language": "python",
     "metadata": {
      "slideshow": {
       "slide_type": "fragment"
      }
     },
     "outputs": [
      {
       "metadata": {},
       "output_type": "display_data",
       "png": "[encoded data removed]",
       "text": [
        "<matplotlib.figure.Figure at 0x7f9a410a0a50>"
       ]
      }
     ],
     "prompt_number": 9
    },
    {
     "cell_type": "raw",
     "metadata": {
      "slideshow": {
       "slide_type": "slide"
      }
     },
     "source": [
      "<img src=\"img/data-array-dimension.png\" width=\"80%\" height=\"80%\">"
     ]
    },
    {
     "cell_type": "heading",
     "level": 2,
     "metadata": {
      "slideshow": {
       "slide_type": "slide"
      }
     },
     "source": [
      "NIX MultiTag"
     ]
    },
    {
     "cell_type": "markdown",
     "metadata": {},
     "source": [
      "The spikes and the signal now exist as separate data entities. We can use a so called tag to indicate, that the single spike times correspond to certain times recorded in the signal."
     ]
    },
    {
     "cell_type": "code",
     "collapsed": false,
     "input": [
      "spike_tag = block.create_multi_tag(\"Spike Times 1\", \"spike_times\", spikes)\n",
      "spike_tag.references.append(signal)\n",
      "\n",
      "print(spike_tag.positions)\n",
      "print(spike_tag.references[0])"
     ],
     "language": "python",
     "metadata": {},
     "outputs": [
      {
       "output_type": "stream",
       "stream": "stdout",
       "text": [
        "DataArray: {name = Spike Times, type = spike_times, id = 72c12ecf-c15b-42d4-8f74-313d233841b8}\n",
        "DataArray: {name = Signal 1, type = analog_signal, id = b563681f-c8e8-4e6e-a96b-2578d5aa7c9c}\n"
       ]
      }
     ],
     "prompt_number": 10
    },
    {
     "cell_type": "code",
     "collapsed": false,
     "input": [
      "plotter = Plotter(width=1000, height=400)\n",
      "plotter.add(spike_tag.positions, color=\"red\")\n",
      "plotter.add(spike_tag.references[0])\n",
      "\n",
      "plotter.plot()"
     ],
     "language": "python",
     "metadata": {
      "slideshow": {
       "slide_type": "slide"
      }
     },
     "outputs": [
      {
       "metadata": {},
       "output_type": "display_data",
       "png": "[encoded data removed]",
       "text": [
        "<matplotlib.figure.Figure at 0x7f9a40fcb390>"
       ]
      }
     ],
     "prompt_number": 11
    },
    {
     "cell_type": "raw",
     "metadata": {
      "slideshow": {
       "slide_type": "slide"
      }
     },
     "source": [
      "<img src=\"img/tag.png\" width=\"30%\" height=\"30%\">\n",
      "<img src=\"img/multi-tag.png\" width=\"30%\" height=\"30%\">"
     ]
    },
    {
     "cell_type": "heading",
     "level": 2,
     "metadata": {
      "slideshow": {
       "slide_type": "slide"
      }
     },
     "source": [
      "NIX Source"
     ]
    },
    {
     "cell_type": "markdown",
     "metadata": {},
     "source": [
      "Sources represent origins for other entities, they can represent ...\n",
      "\n",
      "* Recording channels\n",
      "* Devices such as cameras or microscopes\n",
      "* Neurons / units\n",
      "\n",
      "We will now use a `Source` to indicate, that the `spikes` derived from a certain neuron"
     ]
    },
    {
     "cell_type": "code",
     "collapsed": false,
     "input": [
      "neuron01 = block.create_source(\"Neuron 01\", \"neuron\")\n",
      "\n",
      "print(neuron01)"
     ],
     "language": "python",
     "metadata": {},
     "outputs": [
      {
       "output_type": "stream",
       "stream": "stdout",
       "text": [
        "Source: {name = Neuron 01, type = neuron, id = 1b1684f1-2b95-4413-b2c4-d088c1aeb3de}\n"
       ]
      }
     ],
     "prompt_number": 12
    },
    {
     "cell_type": "code",
     "collapsed": false,
     "input": [
      "spikes.sources.append(neuron01)\n",
      "\n",
      "print(spikes.sources)"
     ],
     "language": "python",
     "metadata": {
      "slideshow": {
       "slide_type": "fragment"
      }
     },
     "outputs": [
      {
       "output_type": "stream",
       "stream": "stdout",
       "text": [
        "[Source: {name = Neuron 01, type = neuron, id = 1b1684f1-2b95-4413-b2c4-d088c1aeb3de}]\n"
       ]
      }
     ],
     "prompt_number": 13
    },
    {
     "cell_type": "raw",
     "metadata": {
      "slideshow": {
       "slide_type": "slide"
      }
     },
     "source": [
      "<img src=\"img/source.png\" width=\"30%\" height=\"30%\">"
     ]
    },
    {
     "cell_type": "heading",
     "level": 2,
     "metadata": {
      "slideshow": {
       "slide_type": "slide"
      }
     },
     "source": [
      "Use-case overview"
     ]
    },
    {
     "cell_type": "raw",
     "metadata": {},
     "source": [
      "<img src=\"img/nix-obj-signal-and-spikes.png\" width=\"80%\" height=\"80%\">"
     ]
    },
    {
     "cell_type": "heading",
     "level": 2,
     "metadata": {
      "slideshow": {
       "slide_type": "slide"
      }
     },
     "source": [
      "Adding metadata using odML"
     ]
    },
    {
     "cell_type": "markdown",
     "metadata": {},
     "source": [
      "The NIX file format implements the odML data model in order to support data annotation. \n",
      "\n",
      "All major NIX entities can be supplemented with an odML `Section`:"
     ]
    },
    {
     "cell_type": "code",
     "collapsed": false,
     "input": [
      "session = f.create_section('Recording 1', 'recording_session')\n",
      "session.create_property(\"experimenter\", nix.Value(\"Adrian Stoewer\"))\n",
      "session.create_property(\"date\", nix.Value(\"2015/05/16\"))\n",
      "\n",
      "\n",
      "block.metadata = session\n",
      "\n",
      "print(block.metadata[\"experimenter\"])\n",
      "print(block.metadata[\"date\"])\n",
      "\n",
      "f.close()"
     ],
     "language": "python",
     "metadata": {},
     "outputs": [
      {
       "output_type": "stream",
       "stream": "stdout",
       "text": [
        "Adrian Stoewer\n",
        "2015/05/16\n"
       ]
      }
     ],
     "prompt_number": 14
    },
    {
     "cell_type": "heading",
     "level": 2,
     "metadata": {
      "slideshow": {
       "slide_type": "slide"
      }
     },
     "source": [
      "NIX data model overview"
     ]
    },
    {
     "cell_type": "raw",
     "metadata": {},
     "source": [
      "<img src=\"img/nix-er-all.png\" width=\"80%\" height=\"80%\">"
     ]
    },
    {
     "cell_type": "heading",
     "level": 1,
     "metadata": {
      "slideshow": {
       "slide_type": "slide"
      }
     },
     "source": [
      "About the NIX project"
     ]
    },
    {
     "cell_type": "heading",
     "level": 2,
     "metadata": {
      "slideshow": {
       "slide_type": "slide"
      }
     },
     "source": [
      "The NIX API"
     ]
    },
    {
     "cell_type": "markdown",
     "metadata": {},
     "source": [
      "* Convenient IO API, utility functions\n",
      "\n",
      "* Implemented in C++11 (2000 commits / 17000 lines of actual code)\n",
      "\n",
      "* Well documented\n",
      "\n",
      "* Linux, MacOS X & Windows support\n",
      "\n",
      "* Debian packages in a PPA, Windows binaries\n",
      "\n",
      "* Hosted on GitHub (https://github.com/G-Node/nix)\n",
      "\n",
      "* Open source (BSD license)"
     ]
    },
    {
     "cell_type": "heading",
     "level": 2,
     "metadata": {
      "slideshow": {
       "slide_type": "slide"
      }
     },
     "source": [
      "NIX bindings for other languages"
     ]
    },
    {
     "cell_type": "markdown",
     "metadata": {},
     "source": [
      "#### Python\n",
      "\n",
      "* Complete and stable\n",
      "* https://github.com/G-Node/nixpy"
     ]
    },
    {
     "cell_type": "markdown",
     "metadata": {
      "slideshow": {
       "slide_type": "fragment"
      }
     },
     "source": [
      "#### Matlab\n",
      "\n",
      "* Complete and in beta stage\n",
      "* https://github.com/G-Node/nix-mx"
     ]
    },
    {
     "cell_type": "markdown",
     "metadata": {
      "slideshow": {
       "slide_type": "fragment"
      }
     },
     "source": [
      "#### Java\n",
      "\n",
      "* Early development stage\n",
      "* 2015 Google Summer of Code project\n",
      "* https://github.com/G-Node/nix-java"
     ]
    },
    {
     "cell_type": "heading",
     "level": 2,
     "metadata": {
      "slideshow": {
       "slide_type": "slide"
      }
     },
     "source": [
      "Tools"
     ]
    },
    {
     "cell_type": "markdown",
     "metadata": {},
     "source": [
      "#### Commandline tool\n",
      "\n",
      "* File browsing\n",
      "* Validation of files\n",
      "* Benchmark tool\n",
      "\n",
      "#### Recording\n",
      "\n",
      "* RELACS (http://relacs.sourceforge.net)"
     ]
    },
    {
     "cell_type": "heading",
     "level": 2,
     "metadata": {
      "slideshow": {
       "slide_type": "slide"
      }
     },
     "source": [
      "Outlook"
     ]
    },
    {
     "cell_type": "markdown",
     "metadata": {},
     "source": [
      "#### Improve data model and API\n",
      "\n",
      "* A prototype for a revised version of the NIX model and format is currently in preparation\n",
      "* Special data entities for positions and regions\n",
      "* Easier to use and less ambiguous model and API"
     ]
    },
    {
     "cell_type": "markdown",
     "metadata": {
      "slideshow": {
       "slide_type": "fragment"
      }
     },
     "source": [
      "#### Improve data annotation and provenance tracking\n",
      "\n",
      "* Investigate support for RDF\n",
      "* Integrate prov-o"
     ]
    },
    {
     "cell_type": "markdown",
     "metadata": {
      "slideshow": {
       "slide_type": "fragment"
      }
     },
     "source": [
      "#### More language bindings\n",
      "\n",
      "* Julia"
     ]
    },
    {
     "cell_type": "heading",
     "level": 2,
     "metadata": {
      "slideshow": {
       "slide_type": "slide"
      }
     },
     "source": [
      "The NIX team"
     ]
    },
    {
     "cell_type": "markdown",
     "metadata": {},
     "source": [
      "__Adrian Stoewer, Programmer, G-Node__ (design and implementation of the data model, format, API and python bindings)\n",
      "\n",
      "__Jan Grewe, Neuroscientist, Uni T\u00fcbingen__ (design and implementation of the data model, format and API)\n",
      "\n",
      "__Christian Kellner, Neuroscientist & Programmer, LMU Munich__ (design and implementation of the API, python and matlab bindings) \n",
      "\n",
      "__Balint Morvai, Programmer, G-Node__ (implementation of the API)\n",
      "\n",
      "__Andrey Sobolov, Programmer, G-Node__ (implementation of the API and python and matlab bindings)\n",
      "\n",
      "__Michael Sonntag, Programmer, G-Node__ (python and matlab bindings)"
     ]
    }
   ],
   "metadata": {}
  }
 ]
}